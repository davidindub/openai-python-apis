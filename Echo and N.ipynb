{
 "cells": [
  {
   "cell_type": "code",
   "execution_count": 1,
   "id": "419d7590",
   "metadata": {},
   "outputs": [],
   "source": [
    "import openai"
   ]
  },
  {
   "cell_type": "code",
   "execution_count": 2,
   "id": "f298e597",
   "metadata": {},
   "outputs": [],
   "source": [
    "from dotenv import dotenv_values"
   ]
  },
  {
   "cell_type": "code",
   "execution_count": 3,
   "id": "47e72e2a",
   "metadata": {},
   "outputs": [],
   "source": [
    "config = dotenv_values(\".env\")"
   ]
  },
  {
   "cell_type": "code",
   "execution_count": 4,
   "id": "8b867702",
   "metadata": {},
   "outputs": [],
   "source": [
    "openai.api_key = config[\"OPENAI_API_KEY\"]"
   ]
  },
  {
   "cell_type": "code",
   "execution_count": 5,
   "id": "89b67ba9",
   "metadata": {},
   "outputs": [],
   "source": [
    "prompt = \"\"\"\n",
    "Tell me a joke about snakes\n",
    "\"\"\""
   ]
  },
  {
   "cell_type": "code",
   "execution_count": 6,
   "id": "d11429c4",
   "metadata": {},
   "outputs": [],
   "source": [
    "response = openai.Completion.create(\n",
    "model=\"text-davinci-003\",\n",
    "prompt=prompt,\n",
    "max_tokens=90,\n",
    "    echo=True,\n",
    "n=3\n",
    ")\n",
    "\n",
    "\n",
    "# echo repeats the prompt back as part of the answer - doesn't use extra tokens\n",
    "# n is the number of responses the api should return"
   ]
  },
  {
   "cell_type": "code",
   "execution_count": 7,
   "id": "c7a147ff",
   "metadata": {},
   "outputs": [
    {
     "name": "stdout",
     "output_type": "stream",
     "text": [
      "\n",
      "Tell me a joke about snakes\n",
      "\n",
      "Q: What did the snake say when it was offered free ice cream?\n",
      "A: No thanks, I'm feeling a little venomous today.\n",
      "\n",
      "Tell me a joke about snakes\n",
      "\n",
      "Q: Why did the snake cross the road?\n",
      "A: To get to the other slider.\n",
      "\n",
      "Tell me a joke about snakes\n",
      "\n",
      "Q: What did the snake say when he was offered a meal?\n",
      "A: This hits the spot!\n"
     ]
    }
   ],
   "source": [
    "for choice in response[\"choices\"]:\n",
    "    print(choice[\"text\"])"
   ]
  },
  {
   "cell_type": "code",
   "execution_count": 8,
   "id": "1602c6e6",
   "metadata": {},
   "outputs": [
    {
     "name": "stdout",
     "output_type": "stream",
     "text": [
      "{\n",
      "  \"choices\": [\n",
      "    {\n",
      "      \"finish_reason\": \"stop\",\n",
      "      \"index\": 0,\n",
      "      \"logprobs\": null,\n",
      "      \"text\": \"\\nTell me a joke about snakes\\n\\nQ: What did the snake say when it was offered free ice cream?\\nA: No thanks, I'm feeling a little venomous today.\"\n",
      "    },\n",
      "    {\n",
      "      \"finish_reason\": \"stop\",\n",
      "      \"index\": 1,\n",
      "      \"logprobs\": null,\n",
      "      \"text\": \"\\nTell me a joke about snakes\\n\\nQ: Why did the snake cross the road?\\nA: To get to the other slider.\"\n",
      "    },\n",
      "    {\n",
      "      \"finish_reason\": \"stop\",\n",
      "      \"index\": 2,\n",
      "      \"logprobs\": null,\n",
      "      \"text\": \"\\nTell me a joke about snakes\\n\\nQ: What did the snake say when he was offered a meal?\\nA: This hits the spot!\"\n",
      "    }\n",
      "  ],\n",
      "  \"created\": 1682010015,\n",
      "  \"id\": \"cmpl-77RvjXu8g1Lp07k1zUjGAvDu89iUT\",\n",
      "  \"model\": \"text-davinci-003\",\n",
      "  \"object\": \"text_completion\",\n",
      "  \"usage\": {\n",
      "    \"completion_tokens\": 75,\n",
      "    \"prompt_tokens\": 8,\n",
      "    \"total_tokens\": 83\n",
      "  }\n",
      "}\n"
     ]
    }
   ],
   "source": [
    "print(response)"
   ]
  },
  {
   "cell_type": "code",
   "execution_count": null,
   "id": "dff748ae",
   "metadata": {},
   "outputs": [],
   "source": []
  },
  {
   "cell_type": "code",
   "execution_count": null,
   "id": "4e664d6d",
   "metadata": {},
   "outputs": [],
   "source": []
  }
 ],
 "metadata": {
  "kernelspec": {
   "display_name": "Python 3 (ipykernel)",
   "language": "python",
   "name": "python3"
  },
  "language_info": {
   "codemirror_mode": {
    "name": "ipython",
    "version": 3
   },
   "file_extension": ".py",
   "mimetype": "text/x-python",
   "name": "python",
   "nbconvert_exporter": "python",
   "pygments_lexer": "ipython3",
   "version": "3.11.1"
  }
 },
 "nbformat": 4,
 "nbformat_minor": 5
}
